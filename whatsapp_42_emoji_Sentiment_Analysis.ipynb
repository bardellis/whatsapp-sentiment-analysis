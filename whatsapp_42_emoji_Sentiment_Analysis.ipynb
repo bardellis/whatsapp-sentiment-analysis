{
 "cells": [
  {
   "cell_type": "markdown",
   "id": "f8863a50",
   "metadata": {},
   "source": [
    "# 4.2.Sentiment Analysis | Emojis\n",
    "This part of the sentiment analysis consists in finding the polarity of the emojis. \n",
    "These resources have an impact on message content that is worth considering.\n",
    "Due to the dependence of the libraries on the virtual environment. For Emojis sentiment analysis or Emosent I have to use a different environment than the one previously used (ipykernel)."
   ]
  },
  {
   "cell_type": "code",
   "execution_count": 1,
   "id": "8874bbc5",
   "metadata": {},
   "outputs": [],
   "source": [
    "import pandas as pd\n",
    "import re"
   ]
  },
  {
   "cell_type": "code",
   "execution_count": 2,
   "id": "73737dc6",
   "metadata": {},
   "outputs": [],
   "source": [
    "data_labeled = pd.read_csv('data_labeled.csv')"
   ]
  },
  {
   "cell_type": "code",
   "execution_count": 3,
   "id": "4a7be464",
   "metadata": {},
   "outputs": [
    {
     "data": {
      "text/plain": [
       "(9770, 15)"
      ]
     },
     "execution_count": 3,
     "metadata": {},
     "output_type": "execute_result"
    }
   ],
   "source": [
    "data_labeled.shape"
   ]
  },
  {
   "cell_type": "markdown",
   "id": "c243fb49",
   "metadata": {},
   "source": [
    "## Emoji | Apply emosent analysis to emoji"
   ]
  },
  {
   "cell_type": "code",
   "execution_count": 4,
   "id": "4ff92fe9",
   "metadata": {},
   "outputs": [
    {
     "name": "stdout",
     "output_type": "stream",
     "text": [
      "Sentiment analysis for '😂':\n",
      "{'unicode_codepoint': '0x1f602', 'occurrences': 14622, 'position': 0.805100583, 'negative': 3614.0, 'neutral': 4163.0, 'positive': 6845.0, 'unicode_name': 'FACE WITH TEARS OF JOY', 'unicode_block': 'Emoticons', 'sentiment_score': 0.221}\n"
     ]
    }
   ],
   "source": [
    "from emosent import get_emoji_sentiment_rank\n",
    "\n",
    "def test_emosent():\n",
    "    sentence = \"😂\"\n",
    "    sentiment = get_emoji_sentiment_rank(sentence)\n",
    "    print(f\"Sentiment analysis for '{sentence}':\")\n",
    "    print(sentiment)\n",
    "\n",
    "# Run the test\n",
    "test_emosent()"
   ]
  },
  {
   "cell_type": "code",
   "execution_count": 5,
   "id": "e9dd025e",
   "metadata": {},
   "outputs": [],
   "source": [
    "def emosent_score(emoji):\n",
    "    score, count = 0, 0\n",
    "    for e in set(emoji):\n",
    "        try:\n",
    "            score += get_emoji_sentiment_rank(e)['sentiment_score']\n",
    "            count += 1\n",
    "        except:\n",
    "            continue\n",
    "    \n",
    "    # Calculate the sentiment score based on your formula\n",
    "    return score / count if count != 0 else score\n",
    "\n",
    "# Apply sentiment analysis to each row of the 'emoji' column\n",
    "data_labeled['Emosent_Polarity'] = data_labeled['emoji'].apply(lambda x: emosent_score(x))"
   ]
  },
  {
   "cell_type": "code",
   "execution_count": 6,
   "id": "ff50ef81",
   "metadata": {},
   "outputs": [],
   "source": [
    "# Map sentiment polarity to labels\n",
    "def map_emotion_label(polarity):\n",
    "    if polarity > 0:\n",
    "        return 'Positive'\n",
    "    elif polarity < 0:\n",
    "        return 'Negative'\n",
    "    else:\n",
    "        return 'Neutral'\n",
    "\n",
    "# Apply the function to create the 'Emosent_Label' column\n",
    "data_labeled['Emosent_Label'] = data_labeled['Emosent_Polarity'].apply(map_emotion_label)"
   ]
  },
  {
   "cell_type": "code",
   "execution_count": 7,
   "id": "3f6af82c",
   "metadata": {},
   "outputs": [],
   "source": [
    "data_labeled['is_msg'] = data_labeled['clean_msg'].apply(lambda x: '-' if pd.isna(x) or x == '' else 'msg')\n",
    "# data_labeled['clean_msg'].fillna('-', inplace=True)\n",
    "data_labeled['clean_msg'] = data_labeled['clean_msg'].fillna('-')\n",
    "\n",
    "data_labeled['is_emoji'] = data_labeled['emoji'].apply(lambda x: '-' if pd.isna(x) or x == '' else 'emoji')\n",
    "# data_labeled['emoji'].fillna('-', inplace=True)\n",
    "data_labeled['emoji'] = data_labeled['emoji'].fillna('-')"
   ]
  },
  {
   "cell_type": "code",
   "execution_count": null,
   "id": "9a66c511",
   "metadata": {},
   "outputs": [],
   "source": []
  },
  {
   "cell_type": "code",
   "execution_count": 8,
   "id": "2280d375",
   "metadata": {},
   "outputs": [],
   "source": [
    "# Save the labeled data to a CSV file\n",
    "data_labeled.to_csv('data_labeled_emosent.csv', index=False)"
   ]
  },
  {
   "cell_type": "code",
   "execution_count": null,
   "id": "41bb5afc",
   "metadata": {},
   "outputs": [],
   "source": []
  }
 ],
 "metadata": {
  "kernelspec": {
   "display_name": "Python 3 (ipykernel)",
   "language": "python",
   "name": "python3"
  },
  "language_info": {
   "codemirror_mode": {
    "name": "ipython",
    "version": 3
   },
   "file_extension": ".py",
   "mimetype": "text/x-python",
   "name": "python",
   "nbconvert_exporter": "python",
   "pygments_lexer": "ipython3",
   "version": "3.9.12"
  }
 },
 "nbformat": 4,
 "nbformat_minor": 5
}
