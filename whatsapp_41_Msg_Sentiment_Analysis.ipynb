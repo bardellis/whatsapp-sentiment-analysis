{
 "cells": [
  {
   "cell_type": "markdown",
   "id": "a6df966d",
   "metadata": {},
   "source": [
    "# 4.1.Sentiment Analysis | Messages\n",
    "This part of sentiment analysis consists of finding the polarity of the text messages. \n",
    "Due to dependence on the libraries of the virtual environment. For text sentiment analysis I have to use a different environment than the one previously used (sentiment_analysis)."
   ]
  },
  {
   "cell_type": "code",
   "execution_count": 1,
   "id": "b529644c",
   "metadata": {},
   "outputs": [],
   "source": [
    "import pandas as pd\n",
    "import re"
   ]
  },
  {
   "cell_type": "code",
   "execution_count": 2,
   "id": "33e079c3",
   "metadata": {},
   "outputs": [],
   "source": [
    "data = pd.read_csv('data.csv')"
   ]
  },
  {
   "cell_type": "code",
   "execution_count": 3,
   "id": "3eac966f",
   "metadata": {},
   "outputs": [
    {
     "data": {
      "text/plain": [
       "(9770, 13)"
      ]
     },
     "execution_count": 3,
     "metadata": {},
     "output_type": "execute_result"
    }
   ],
   "source": [
    "data.shape"
   ]
  },
  {
   "cell_type": "markdown",
   "id": "b07d3206",
   "metadata": {},
   "source": [
    "## Clean msg | Apply sentiment analysis to clean msg"
   ]
  },
  {
   "cell_type": "code",
   "execution_count": 4,
   "id": "b7028c65",
   "metadata": {},
   "outputs": [
    {
     "name": "stdout",
     "output_type": "stream",
     "text": [
      "Sentiment score: 5\n"
     ]
    }
   ],
   "source": [
    "import ssl\n",
    "from datetime import timedelta\n",
    "from datetime import datetime\n",
    "import timeit\n",
    "from transformers import AutoTokenizer, AutoModelForSequenceClassification\n",
    "import torch\n",
    "\n",
    "# Load pre-trained model and tokenizer\n",
    "tokenizer = AutoTokenizer.from_pretrained('nlptown/bert-base-multilingual-uncased-sentiment')\n",
    "model = AutoModelForSequenceClassification.from_pretrained('nlptown/bert-base-multilingual-uncased-sentiment')\n",
    "model.eval()\n",
    "\n",
    "def get_sentiment_token(text):\n",
    "    # Tokenize the text\n",
    "    tokens = tokenizer.encode(text, return_tensors='pt', truncation=True, max_length=512)\n",
    "    \n",
    "    # Forward pass through the model\n",
    "    with torch.no_grad():\n",
    "        outputs = model(tokens)\n",
    "    \n",
    "    # Get the sentiment polarity (index of the maximum logit)\n",
    "    sentiment = torch.argmax(outputs.logits, dim=1).item() + 1\n",
    "    \n",
    "    return sentiment\n",
    "\n",
    "# Example usage\n",
    "text = \"I love this product! It works great and I couldn't be happier.\"\n",
    "sentiment = get_sentiment_token(text)\n",
    "print(f\"Sentiment score: {sentiment}\")"
   ]
  },
  {
   "cell_type": "code",
   "execution_count": 5,
   "id": "9c7860c9",
   "metadata": {},
   "outputs": [],
   "source": [
    "import torch.nn.functional as F\n",
    "\n",
    "# Load pre-trained model and tokenizer\n",
    "tokenizer = AutoTokenizer.from_pretrained('nlptown/bert-base-multilingual-uncased-sentiment')\n",
    "model = AutoModelForSequenceClassification.from_pretrained('nlptown/bert-base-multilingual-uncased-sentiment')\n",
    "\n",
    "def get_sentiment_token(text):\n",
    "    # Tokenize the text\n",
    "    tokens = tokenizer.encode(text, return_tensors='pt', truncation=True)\n",
    "    \n",
    "    # Check if the tokens exceed the maximum sequence length\n",
    "    if tokens.size(1) > 512:\n",
    "        print(f\"Tokens size exceeds maximum sequence length: {tokens.size(1)}\")\n",
    "        # Pad the tensor if needed\n",
    "        tokens = F.pad(tokens, (0, 512 - tokens.size(1)))\n",
    "    \n",
    "    # Forward pass through the model\n",
    "    blob = model(tokens)\n",
    "    \n",
    "    # Return the sentiment polarity\n",
    "    return int(torch.argmax(blob.logits)) + 1"
   ]
  },
  {
   "cell_type": "code",
   "execution_count": 6,
   "id": "01bd2302",
   "metadata": {},
   "outputs": [
    {
     "name": "stdout",
     "output_type": "stream",
     "text": [
      "Elapsed time: 0.04257489999872632 seconds\n"
     ]
    }
   ],
   "source": [
    "import timeit\n",
    "start_time = timeit.default_timer()\n",
    "\n",
    "get_sentiment_token('no me gusta eso')\n",
    "\n",
    "end_time = timeit.default_timer()\n",
    "elapsed_time = end_time - start_time\n",
    "print(f\"Elapsed time: {elapsed_time} seconds\")"
   ]
  },
  {
   "cell_type": "code",
   "execution_count": 7,
   "id": "9a8b8103",
   "metadata": {},
   "outputs": [
    {
     "name": "stdout",
     "output_type": "stream",
     "text": [
      "Elapsed time: 661.270815099997 seconds\n"
     ]
    }
   ],
   "source": [
    "import timeit\n",
    "start_time = timeit.default_timer()\n",
    "\n",
    "# Create a copy of the DataFrame to avoid SettingWithCopyWarning\n",
    "# data_copy = data.copy()\n",
    "\n",
    "# Apply sentiment analysis to each row of the 'clean_msg' column\n",
    "data['Sentiment_Polarity'] = data['clean_msg'].apply(lambda x: get_sentiment_token(x))\n",
    "\n",
    "# Map sentiment polarity to labels\n",
    "data['Sentiment_Label'] = data['Sentiment_Polarity'].map({5: 'Positive', 1: 'Negative', 3: 'Neutral'})\n",
    "\n",
    "end_time = timeit.default_timer()\n",
    "elapsed_time = end_time - start_time\n",
    "print(f\"Elapsed time: {elapsed_time} seconds\")"
   ]
  },
  {
   "cell_type": "code",
   "execution_count": null,
   "id": "1a4a4c91",
   "metadata": {},
   "outputs": [],
   "source": []
  },
  {
   "cell_type": "code",
   "execution_count": 8,
   "id": "a9bb5b76",
   "metadata": {},
   "outputs": [],
   "source": [
    "# Save the labeled data to a CSV file\n",
    "data.to_csv('data_labeled.csv', index=False)"
   ]
  },
  {
   "cell_type": "code",
   "execution_count": null,
   "id": "f56a1c11",
   "metadata": {},
   "outputs": [],
   "source": []
  }
 ],
 "metadata": {
  "kernelspec": {
   "display_name": "Python (sentiment_analysis)",
   "language": "python",
   "name": "sentiment_analysis"
  },
  "language_info": {
   "codemirror_mode": {
    "name": "ipython",
    "version": 3
   },
   "file_extension": ".py",
   "mimetype": "text/x-python",
   "name": "python",
   "nbconvert_exporter": "python",
   "pygments_lexer": "ipython3",
   "version": "3.10.1"
  }
 },
 "nbformat": 4,
 "nbformat_minor": 5
}
